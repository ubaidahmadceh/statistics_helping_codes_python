{
 "cells": [
  {
   "cell_type": "code",
   "execution_count": 2,
   "metadata": {},
   "outputs": [
    {
     "name": "stdout",
     "output_type": "stream",
     "text": [
      "0.7536937416666666\n",
      "[0.74141863 0.77191915]\n",
      "(0.7395474801183203, 0.7678400032150129)\n"
     ]
    }
   ],
   "source": [
    "import numpy as np\n",
    "import scipy.stats as st \n",
    "data = [0.74451678, 0.77241887, 0.76842114, 0.7410406 , 0.75170022, 0.74406484]\n",
    "\n",
    "# Print the mean\n",
    "print(np.mean(data))\n",
    "\n",
    "# Print the 95% confidence interval using numpy\n",
    "print(np.quantile(data, [0.025, 0.975]))\n",
    "\n",
    "# Print the 95% confidence interval using scipy\n",
    "print(st.t.interval(confidence=0.95, df=len(data)-1, loc=np.mean(data), scale=st.sem(data)))"
   ]
  }
 ],
 "metadata": {
  "kernelspec": {
   "display_name": "Python 3",
   "language": "python",
   "name": "python3"
  },
  "language_info": {
   "codemirror_mode": {
    "name": "ipython",
    "version": 3
   },
   "file_extension": ".py",
   "mimetype": "text/x-python",
   "name": "python",
   "nbconvert_exporter": "python",
   "pygments_lexer": "ipython3",
   "version": "3.11.1 (tags/v3.11.1:a7a450f, Dec  6 2022, 19:58:39) [MSC v.1934 64 bit (AMD64)]"
  },
  "orig_nbformat": 4,
  "vscode": {
   "interpreter": {
    "hash": "3531d6784c728bbbadf31c15ef4f64de606a6d39976c442399625038756f4893"
   }
  }
 },
 "nbformat": 4,
 "nbformat_minor": 2
}
